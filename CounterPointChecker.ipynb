{
  "nbformat": 4,
  "nbformat_minor": 0,
  "metadata": {
    "colab": {
      "name": "CounterPointChecker.ipynb",
      "provenance": [],
      "collapsed_sections": [],
      "include_colab_link": true
    },
    "kernelspec": {
      "name": "python3",
      "display_name": "Python 3"
    }
  },
  "cells": [
    {
      "cell_type": "markdown",
      "metadata": {
        "id": "view-in-github",
        "colab_type": "text"
      },
      "source": [
        "<a href=\"https://colab.research.google.com/github/YongweiChe/motion_sensor/blob/master/CounterPointChecker.ipynb\" target=\"_parent\"><img src=\"https://colab.research.google.com/assets/colab-badge.svg\" alt=\"Open In Colab\"/></a>"
      ]
    },
    {
      "cell_type": "markdown",
      "metadata": {
        "id": "nslCvH4fH3jN"
      },
      "source": [
        "Bash Terminal Commands"
      ]
    },
    {
      "cell_type": "code",
      "metadata": {
        "id": "TLOIEtwGxsAp",
        "colab": {
          "base_uri": "https://localhost:8080/"
        },
        "outputId": "d3236ca8-7119-4319-860c-f467a546dfb1"
      },
      "source": [
        "!pip install thinkx\r\n",
        "!pip install pydub\r\n",
        "!pip install mido\r\n",
        "!pip install pygame\r\n",
        "!git clone https://github.com/beloiual/counterpoint-checker #forks the repository with the wavfile data\r\n"
      ],
      "execution_count": 12,
      "outputs": [
        {
          "output_type": "stream",
          "text": [
            "Requirement already satisfied: thinkx in /usr/local/lib/python3.6/dist-packages (1.1.3)\n",
            "Requirement already satisfied: scipy in /usr/local/lib/python3.6/dist-packages (from thinkx) (1.4.1)\n",
            "Requirement already satisfied: pandas in /usr/local/lib/python3.6/dist-packages (from thinkx) (1.1.5)\n",
            "Requirement already satisfied: markdown in /usr/local/lib/python3.6/dist-packages (from thinkx) (3.3.3)\n",
            "Requirement already satisfied: matplotlib in /usr/local/lib/python3.6/dist-packages (from thinkx) (3.2.2)\n",
            "Requirement already satisfied: numpy in /usr/local/lib/python3.6/dist-packages (from thinkx) (1.19.5)\n",
            "Requirement already satisfied: pytz>=2017.2 in /usr/local/lib/python3.6/dist-packages (from pandas->thinkx) (2018.9)\n",
            "Requirement already satisfied: python-dateutil>=2.7.3 in /usr/local/lib/python3.6/dist-packages (from pandas->thinkx) (2.8.1)\n",
            "Requirement already satisfied: importlib-metadata; python_version < \"3.8\" in /usr/local/lib/python3.6/dist-packages (from markdown->thinkx) (3.3.0)\n",
            "Requirement already satisfied: cycler>=0.10 in /usr/local/lib/python3.6/dist-packages (from matplotlib->thinkx) (0.10.0)\n",
            "Requirement already satisfied: kiwisolver>=1.0.1 in /usr/local/lib/python3.6/dist-packages (from matplotlib->thinkx) (1.3.1)\n",
            "Requirement already satisfied: pyparsing!=2.0.4,!=2.1.2,!=2.1.6,>=2.0.1 in /usr/local/lib/python3.6/dist-packages (from matplotlib->thinkx) (2.4.7)\n",
            "Requirement already satisfied: six>=1.5 in /usr/local/lib/python3.6/dist-packages (from python-dateutil>=2.7.3->pandas->thinkx) (1.15.0)\n",
            "Requirement already satisfied: typing-extensions>=3.6.4; python_version < \"3.8\" in /usr/local/lib/python3.6/dist-packages (from importlib-metadata; python_version < \"3.8\"->markdown->thinkx) (3.7.4.3)\n",
            "Requirement already satisfied: zipp>=0.5 in /usr/local/lib/python3.6/dist-packages (from importlib-metadata; python_version < \"3.8\"->markdown->thinkx) (3.4.0)\n",
            "Requirement already satisfied: pydub in /usr/local/lib/python3.6/dist-packages (0.24.1)\n",
            "Requirement already satisfied: mido in /usr/local/lib/python3.6/dist-packages (1.2.9)\n",
            "Requirement already satisfied: pygame in /usr/local/lib/python3.6/dist-packages (2.0.1)\n",
            "fatal: destination path 'counterpoint-checker' already exists and is not an empty directory.\n"
          ],
          "name": "stdout"
        }
      ]
    },
    {
      "cell_type": "code",
      "metadata": {
        "id": "SzpdSw7sVKeM"
      },
      "source": [
        "from collections import namedtuple\n",
        "import wave\n",
        "import math\n",
        "import plotly.express as px\n",
        "from pydub import AudioSegment\n",
        "import IPython\n"
      ],
      "execution_count": 13,
      "outputs": []
    },
    {
      "cell_type": "markdown",
      "metadata": {
        "id": "hI2C__S-nnXx"
      },
      "source": [
        "Functions that check for length constraints"
      ]
    },
    {
      "cell_type": "code",
      "metadata": {
        "id": "Rvlrh288nhEV"
      },
      "source": [
        "def check_same_length(list1, list2):\r\n",
        "  return len(list1) == len(list2)\r\n",
        "\r\n",
        "def check_length(list1):\r\n",
        "  return list1 <= 16 and list1 >= 8 #cantus firmus and counterpoint must be between 8 and 16 notes"
      ],
      "execution_count": 14,
      "outputs": []
    },
    {
      "cell_type": "markdown",
      "metadata": {
        "id": "bjPBi7vNklDT"
      },
      "source": [
        "Check for Miscellenious constraints"
      ]
    },
    {
      "cell_type": "code",
      "metadata": {
        "id": "ZKjixNNxkkLt"
      },
      "source": [
        "def check_first(above_check, list1, list2):\r\n",
        "  above_consonance = [0, 7, 12]\r\n",
        "  below_consonance = [0, 12]\r\n",
        "  if (above_check == 1):\r\n",
        "    return abs(list1[0] - list2[0]) in above_consonance\r\n",
        "  else:\r\n",
        "    return abs(list1[0] - list2[0]) in below_consonance\r\n",
        "\r\n",
        "def check_last(list1, list2):\r\n",
        "  consonance = [0, 12]\r\n",
        "  last = len(list1) - 1\r\n",
        "  return abs(list1[0] - list2[0]) in consonance"
      ],
      "execution_count": 15,
      "outputs": []
    },
    {
      "cell_type": "markdown",
      "metadata": {
        "id": "_JQ8q5VO4e2o"
      },
      "source": [
        "Check for correct ranges"
      ]
    },
    {
      "cell_type": "code",
      "metadata": {
        "id": "AFy6mxD-4dqj"
      },
      "source": [
        "def check_range(list1):\n",
        "  return max(list1) - min(list1) > 16 #max difference between highest and lowest notes is a 10th (16 midi values)\n",
        "\n",
        "def check_voice_cross(above_or_below, cantusf, counterp): # when above_or_below = 1, counterpoint above cantus firmus\n",
        "  correct = True\n",
        "  wrong_notes = []\n",
        "\n",
        "  if (above_or_below == 1):\n",
        "    for i in range(len(cantusf)):\n",
        "      if (counterp[i] < cantusf[i]):\n",
        "        wrong_notes.append(i)\n",
        "        correct = False\n",
        "  else:\n",
        "    for i in range(len(cantusf)):\n",
        "      if (counterp[i] > cantusf[i]):\n",
        "        wrong_notes.append(i)\n",
        "        correct = False\n",
        "  return correct, wrong_notes\n",
        "\n",
        "def check_voice_overlap(above_or_below, cantusf, counterp): # when above_or_below = 1, counterpoint above cantus firmus\n",
        "  correct = True\n",
        "  wrong_notes = []\n",
        "  \n",
        "  if (above_or_below == 1):\n",
        "    for i in range(len(cantusf) - 1):\n",
        "      if (counterp[i] < cantusf[i + 1] and counterp[i] >= cantusf[i]):\n",
        "        wrong_notes.append(i)\n",
        "        correct = False\n",
        "  else:\n",
        "    for i in range(len(cantusf) - 1):\n",
        "      if (counterp[i] > cantusf[i + 1] and counterp[i] <= cantusf[i]):\n",
        "        wrong_notes.append(i)\n",
        "        correct = False\n",
        "  return correct, wrong_notes"
      ],
      "execution_count": 17,
      "outputs": []
    },
    {
      "cell_type": "markdown",
      "metadata": {
        "id": "2885ozz_ICEv"
      },
      "source": [
        "Functions that check note pairs for consonance"
      ]
    },
    {
      "cell_type": "code",
      "metadata": {
        "id": "VpFnXU5KH2Vj"
      },
      "source": [
        "def check_harmonic_consonance(note1, note2):\n",
        "  consonances = [0, 3, 4, 7, 8, 9] #list of consonant values\n",
        "  return (abs((note1 - note2) % 12)) in consonances\n",
        "\n",
        "def check_melodic_consonance(note1, note2):\n",
        "  consonances = [0, 1, 2, 3, 4, 5, 7, 8, 9, 12] #list of consonant values\n",
        "  interval = abs(note1 - note2)\n",
        "  \n",
        "  if interval <= 12:\n",
        "    return interval in consonances\n",
        "  else: \n",
        "    print(\"Leap too large\")\n",
        "    return False"
      ],
      "execution_count": 18,
      "outputs": []
    },
    {
      "cell_type": "markdown",
      "metadata": {
        "id": "Fj5D_r2doA1G"
      },
      "source": [
        "Functions that check for peak constraints"
      ]
    },
    {
      "cell_type": "code",
      "metadata": {
        "id": "y1dNUYTPn36r"
      },
      "source": [
        "def find_peak_cf(list_in):\r\n",
        "  return list_in.index(max(list_in))\r\n",
        "\r\n",
        "def find_peak_cp(list_in):\r\n",
        "  orientation_val = 0 \r\n",
        "  start = list_in[0]\r\n",
        "# checks it the counterpoint is orientated up or down\r\n",
        "  for i in range(len(list_in)): \r\n",
        "    orientation_val += list_in[i] - start\r\n",
        "# depending on the orientation value find peak or trough\r\n",
        "  if orientation_val >= 0:\r\n",
        "    return list_in.index(max(list_in))\r\n",
        "  else:\r\n",
        "    return list_in.index(min(list_in))\r\n",
        "\r\n",
        "\r\n",
        "def check_one_peak(list_in, peak_index):\r\n",
        "  max = list_in[peak_index]\r\n",
        "  if list_in.count(max) == 1:\r\n",
        "    return True\r\n",
        "  else:\r\n",
        "    return False"
      ],
      "execution_count": 19,
      "outputs": []
    },
    {
      "cell_type": "markdown",
      "metadata": {
        "id": "kAMGdOetm_1G"
      },
      "source": [
        "Checking Harmonic and Melodic Consonance in the entire Counterpoint"
      ]
    },
    {
      "cell_type": "code",
      "metadata": {
        "id": "1KNf_zVFYKRT"
      },
      "source": [
        "def check_harmonic_consonance_in_list(list1, list2):\n",
        "  # cycles through entire list to see if the two lists are harmonically consonant\n",
        "  harmonic = True\n",
        "  wrong_notes = []\n",
        "  index = 0\n",
        "\n",
        "  for x, y in zip(list1, list2):\n",
        "    index += 1\n",
        "    if not check_harmonic_consonance(x, y):\n",
        "      harmonic = False\n",
        "      wrong_notes.append(index)\n",
        "  return harmonic, wrong_notes\n",
        "\n",
        "\n",
        "def check_melodic_consonance_in_list(list1):\n",
        "  # cycles through a list to check melodic consonant\n",
        "  melodic = True\n",
        "  wrong_notes = []\n",
        "\n",
        "  for i in range(len(list1) - 1):\n",
        "    if not check_melodic_consonance(list1[i], list1[i + 1]):\n",
        "      print(\"Melodic error at \", i)\n",
        "      melodic = False\n",
        "      wrong_notes.append(i)\n",
        "  return melodic, wrong_notes\n",
        "\n"
      ],
      "execution_count": 20,
      "outputs": []
    },
    {
      "cell_type": "code",
      "metadata": {
        "id": "DnxMs7he2k47"
      },
      "source": [
        "def setKeyCenter(input_string):\n",
        "  # gets key name\n",
        "  keyName = input_string[0]\n",
        "\n",
        "  STARTING_NOTE = 36\n",
        "  SCALE_DEGREE = 1\n",
        "  if (keyName == 'C'):\n",
        "    STARTING_NOTE += 0\n",
        "  elif (keyName == 'D'):\n",
        "    STARTING_NOTE += 2\n",
        "  elif (keyName == 'E'):\n",
        "    STARTING_NOTE += 4\n",
        "  elif (keyName == 'F'):\n",
        "    STARTING_NOTE += 5\n",
        "  elif (keyName == 'G'):\n",
        "    STARTING_NOTE += 7\n",
        "  elif (keyName == 'A'):\n",
        "    STARTING_NOTE += 9\n",
        "  elif (keyName == 'B'):\n",
        "    STARTING_NOTE += 11\n",
        "  else:\n",
        "    raise Exception(keyName + \" is not a valid note on the keyboard\")\n",
        "\n",
        "  # modifies starting note to account for accidentals\n",
        "  if (len(input_string) == 5):\n",
        "    if (input_string[1] == '#'):\n",
        "      STARTING_NOTE += 1\n",
        "    elif (input_string[1] == 'b'):\n",
        "      STARTING_NOTE -= 1\n",
        "    else:\n",
        "      raise Exception(input_string[1] + \" is not a valid accidental\")\n",
        "  \n",
        "  # checks if major or minor\n",
        "  isMajor = False\n",
        "  if (input_string[-3:] == \"maj\"):\n",
        "    isMajor = True\n",
        "\n",
        "  # step movements between scale degrees for major and minor\n",
        "  maj = [2, 2, 1, 2, 2, 2, 1]\n",
        "  min = [2, 1, 2, 2, 1, 2, 2]\n",
        "\n",
        "  keyCenter = {}\n",
        "\n",
        "  # FILLS IN DICTIONARY\n",
        "  if (isMajor):\n",
        "    m = STARTING_NOTE\n",
        "    i = SCALE_DEGREE\n",
        "    # fills in dictionary from scale degree 1 upwards\n",
        "    while (m < 128):\n",
        "      keyCenter[m] = i\n",
        "      m = m + maj[(i - 1) % 7]\n",
        "      i += 1\n",
        "\n",
        "    m = STARTING_NOTE\n",
        "    i = SCALE_DEGREE\n",
        "    # fills in dictionary from scale degree 1 downwards\n",
        "    while (m > 0):\n",
        "\n",
        "      keyCenter[m] = i\n",
        "      m = m - maj[(i + 5) % 7]\n",
        "      i -= 1\n",
        "  else:\n",
        "    m = STARTING_NOTE\n",
        "    i = SCALE_DEGREE\n",
        "    # fills in dictionary from scale degree 1 upwards\n",
        "    while (m < 128):\n",
        "      keyCenter[m] = i\n",
        "      if ((i % 7 == 6 or i % 7 == 0) and m + 1 < 128):\n",
        "        keyCenter[m + 1] = i\n",
        "      m = m + min[(i - 1) % 7]\n",
        "      i += 1\n",
        "\n",
        "    m = STARTING_NOTE\n",
        "    i = SCALE_DEGREE\n",
        "    # fills in dictionary from scale degree 1 downwards\n",
        "    while (m >= 0):\n",
        "      keyCenter[m] = i\n",
        "      if ((i % 7 == 6 or i % 7 == 0) and m + 1 >= 0):\n",
        "        keyCenter[m + 1] = i\n",
        "      m = m - min[(i + 5) % 7]\n",
        "      i -= 1\n",
        "  return keyCenter"
      ],
      "execution_count": 21,
      "outputs": []
    },
    {
      "cell_type": "markdown",
      "metadata": {
        "id": "W0aHo1zzUIMB"
      },
      "source": [
        "Linear Regression"
      ]
    },
    {
      "cell_type": "code",
      "metadata": {
        "id": "pns5r0dUlBAB"
      },
      "source": [
        "def isLinear(list_in,typeOfMusic):\r\n",
        "  useMin = False\r\n",
        "  useMax = False\r\n",
        "  max = list_in[0]\r\n",
        "  maxIndex=0\r\n",
        "  minIndex=0\r\n",
        "  min = list_in[0]\r\n",
        "  count=0\r\n",
        "  Index=0\r\n",
        "  minCount=0\r\n",
        "  maxCount=0\r\n",
        "\r\n",
        "  if typeOfMusic==\"Counter\":\r\n",
        "    Index=find_peak_cp(list_in)\r\n",
        "  elif typeOfMusic==\"Cantus\":\r\n",
        "    Index=find_peak_cf(list_in) #finds the index of the peak\r\n",
        "  \r\n",
        "  for j in range(Index+1): #counts the amount of indexs from the start to the max/min \r\n",
        "    count=count+1\r\n",
        "  meanX=0\r\n",
        "  meanY=0\r\n",
        "  mTop=0\r\n",
        "  mBottom=0\r\n",
        "  for j in range(Index+1): #calculates the meanx by adding up the amount of steps and dividing by count for meanx and finding the average of each value in the list in a range\r\n",
        "    meanY=meanY+list_in[j]\r\n",
        "    meanX=meanX+j\r\n",
        "  meanY=meanY/count\r\n",
        "  meanX=meanX/count\r\n",
        " \r\n",
        "  for j in range(Index+1): #calculates slope\r\n",
        "    mTop=mTop+(j-meanX)*(list_in[j]-meanY)\r\n",
        "    mBottom= mBottom + (j-meanX)*(j-meanX)\r\n",
        "  \r\n",
        "\r\n",
        "  \r\n",
        "  if mBottom==0: #if the bottom is 0, will produce a false\r\n",
        "    return \"Random\"\r\n",
        "  m1=mTop/mBottom\r\n",
        "  \r\n",
        "  b=meanY-m1*meanX #calculates b\r\n",
        "  \r\n",
        "\r\n",
        "\r\n",
        "  if m1!=0:\r\n",
        "    rsquared1Top=0\r\n",
        "    rsquared1Bottom=0\r\n",
        "    for j in range(Index+1): #finds r^2\r\n",
        "      yBestfit= m1*j+b\r\n",
        "      regression=(list_in[j]-yBestfit) #this is the regression at each point\r\n",
        "      rsquared1Top=rsquared1Top+(regression*regression)\r\n",
        "      rsquared1Bottom=rsquared1Bottom+((list_in[j]-meanY)*(list_in[j]-meanY))\r\n",
        "    rsquared1=1-((rsquared1Top)/(rsquared1Bottom))\r\n",
        "  else:\r\n",
        "    rsquared1=1.0\r\n",
        "\r\n",
        "  \r\n",
        "  ###this does the same as the first but for the second half\r\n",
        "  Index=Index+1 #changes it so we do not account for the peak (can be modified)\r\n",
        "  count=len(list_in)-Index\r\n",
        "  \r\n",
        "  meanX=1\r\n",
        "  meanY=0\r\n",
        "  mTop=0\r\n",
        "  mBottom=0\r\n",
        "\r\n",
        "  if count!=0:\r\n",
        "    for j in range(count):\r\n",
        "      meanY=meanY+list_in[j+Index]\r\n",
        "      meanX=meanX+j\r\n",
        "    meanY=meanY/count\r\n",
        "    meanX=meanX/(len(list_in)-count)\r\n",
        "    \r\n",
        "    for j in range(count):\r\n",
        "      mTop=mTop+(j-meanX)*(list_in[j+Index]-meanY)\r\n",
        "      mBottom= mBottom + (j-meanX)*(j-meanX)\r\n",
        "\r\n",
        "    if mBottom==0:\r\n",
        "      return \"Random\"\r\n",
        "    m2=mTop/mBottom\r\n",
        "    b=meanY-m2*meanX\r\n",
        "    if m2!=0:\r\n",
        "      rsquared2Top=0\r\n",
        "      rsquared2Bottom=0\r\n",
        "      for j in range(count):\r\n",
        "        yBestfit= m2*j+b\r\n",
        "        regression=(list_in[j+Index]-yBestfit)\r\n",
        "        rsquared2Top=rsquared2Top+(regression*regression)\r\n",
        "        rsquared2Bottom=rsquared2Bottom+((list_in[j+Index]-meanY)*(list_in[j+Index]-meanY))\r\n",
        "      rsquared2=1-((rsquared2Top)/(rsquared2Bottom))\r\n",
        "    else:\r\n",
        "      rsquared2=1.0\r\n",
        "\r\n",
        "\r\n",
        "    stringOutput= \"Linear Threshold for Each Side of the Peak = \" + str(round(rsquared1,3))+ \" and \"+ str(round(rsquared2,3))\r\n",
        "\r\n",
        "  else:\r\n",
        "    rsquared2=1\r\n",
        "    stringOutput= \"Linear Threshold for Each Side of the Peak = \" + str(round(rsquared1,3))+ \" and None\"\r\n",
        "\r\n",
        "  \r\n",
        "\r\n",
        "  if (rsquared1==1) & (rsquared2==1) : #checks if a list of notes with a peak has a linear regression threshold of 100\r\n",
        "    return \"Pefectly Linear\", stringOutput #outputs two strings\r\n",
        "  elif (rsquared1>=0.9) & (rsquared2>=0.9) : #checks if a list of notes with a peak has a linear regression threshold of 90\r\n",
        "    return \"Very Smooth\", stringOutput\r\n",
        "  elif (rsquared1>=0.7) & (rsquared2>=0.7): #checks if a list of notes with a peak has a linear regression threshold of 70\r\n",
        "    return \"Relatively Smooth\", stringOutput\r\n",
        "  elif (rsquared1>=0.5) & (rsquared2>=0.5): #checks if a list of notes with a peak has a linear regression threshold of 50\r\n",
        "    return \"General Trend\", stringOutput\r\n",
        "  else:\r\n",
        "    return \"Random\", stringOutput"
      ],
      "execution_count": 22,
      "outputs": []
    },
    {
      "cell_type": "markdown",
      "metadata": {
        "id": "ZF1hRPEVN47R"
      },
      "source": [
        "Checking Motion"
      ]
    },
    {
      "cell_type": "code",
      "metadata": {
        "id": "CCHStYPrIx_W"
      },
      "source": [
        "def motion(list1, list2): #input the list of values post key change\r\n",
        "  motion=[]\r\n",
        "  change1=[]\r\n",
        "  change2=[]\r\n",
        "  for i in range(len(list1)-1): #finds the values of change for the lists\r\n",
        "    change1.append(list1[i+1]-list1[i])\r\n",
        "  for i in range(len(list2)-1):\r\n",
        "    change2.append(list2[i+1]-list2[i])\r\n",
        "  for i in range(len(change1)):\r\n",
        "    if i<len(change2): #checks to make sure that there are no hanging notes\r\n",
        "      if change1[i]==change2[i]: #parallel check (checks if both jump the same amount)\r\n",
        "        motion.append(\"Parallel\") \r\n",
        "      elif ((change1[i]>0) & (change2[i]>0)) | ((change1[i]<0) & (change2[i]<0)) | ((change1[i]==0) & (change2[i]==0)): #similar check (checks if both are in the same direction)\r\n",
        "        motion.append(\"Similar\")\r\n",
        "      elif ((change1[i]!=0) & (change2[i]==0)) | ((change1[i]==0) & (change2[i]!=0)): #oblique check (checks if one stays the same and the other changes direction)\r\n",
        "        motion.append(\"Oblique\")\r\n",
        "      elif ((change1[i]>0) & (change2[i]<0)) | ((change1[i]<0) & (change2[i]>0)): #contrary check (checks if one goes up and the other goes down)\r\n",
        "        motion.append(\"Contrary\")\r\n",
        "    else:\r\n",
        "      motion.append(\"Hanging Note\")\r\n",
        "\r\n",
        "  \r\n",
        "  return motion    \r\n"
      ],
      "execution_count": 23,
      "outputs": []
    },
    {
      "cell_type": "code",
      "metadata": {
        "id": "v8M6c499E6r8"
      },
      "source": [
        "def motion3InARow(motion): #Checks if motion occures three times in a row\r\n",
        "  no_3_in_row = True\r\n",
        "  wrong_notes = []\r\n",
        "\r\n",
        "  for i in range(len(motion)-2):\r\n",
        "    if motion[i] == motion[i+1]:\r\n",
        "      if motion[i+1]==motion[i+2]:\r\n",
        "        no_3_in_row = False\r\n",
        "        wrong_notes.append(i + 2)\r\n",
        "  return no_3_in_row, wrong_notes\r\n",
        "\r\n",
        "# returns whether correct or not and a list of the locations of inaccuracies\r\n",
        "def checkParallelFifthsOctaves(list1, list2):\r\n",
        "  correct = True\r\n",
        "  occurances = []\r\n",
        "  for i in range(len(list1) - 1):\r\n",
        "    if (list1[i] - list1[i + 1] == list2[i] - list2[i + 1]):\r\n",
        "      if (abs(list1[i] - list2[i]) % 12 == 0 or abs(list1[i] - list2[i]) % 12 == 7):\r\n",
        "        occurances.append(i)\r\n",
        "        correct = False\r\n",
        "  return correct, occurances\r\n",
        "\r\n",
        "# returns whether correct or not and a list of the locations of inaccuracies\r\n",
        "def checkHiddenFifthsOctaves(list1, list2):\r\n",
        "  correct = True\r\n",
        "  occurances = []\r\n",
        "  for i in range(len(list1) - 1):\r\n",
        "    if ((list1[i] - list1[i + 1] > 0 and list2[i] - list2[i + 1] > 0) or (list1[i] - list1[i + 1] < 0 and list2[i] - list2[i + 1] < 0)):\r\n",
        "      if (abs(list1[i + 1] - list2[i + 1]) % 12 == 0 and abs(list1[i] - list2[i]) % 12 != 0):\r\n",
        "        occurances.append(i)\r\n",
        "        correct = False\r\n",
        "      if (abs(list1[i + 1] - list2[i + 1]) % 12 == 7 and abs(list1[i] - list2[i]) % 12 != 7):\r\n",
        "        occurances.append(i)\r\n",
        "        correct = False\r\n",
        "  return correct, occurances\r\n",
        "\r\n",
        "# returns whether correct or not and a list of the locations of inaccuracies\r\n",
        "def check_7th_resolution(list1): \r\n",
        "  resolution_good = True\r\n",
        "  wrong_notes = []\r\n",
        "\r\n",
        "  for i in range(len(list1) - 1):\r\n",
        "    if (list1[i] % 8 == 7):\r\n",
        "      if (list1[i] % 8 != 0):\r\n",
        "        resolution_good = False\r\n",
        "        wrong_notes.append(i)\r\n",
        "  return resolution_good, wrong_notes\r\n",
        "\r\n",
        "# returns whether correct or not and a list of the locations of inaccuracies\r\n",
        "def check_leaps_resolve_opposite(list1):\r\n",
        "  leaps_good = True\r\n",
        "  wrong_notes = []\r\n",
        "\r\n",
        "  for i in range(len(list1) - 2):\r\n",
        "    interval = list1[i + 1] - list1[i]\r\n",
        "    interval_2 = list1[i + 2] - list1[i + 1]\r\n",
        "    if (abs(interval) > 1):\r\n",
        "      if (interval * interval_2 > 0):\r\n",
        "        leaps_good = False\r\n",
        "        wrong_notes.append[i + 1]\r\n",
        "\r\n",
        "  return leaps_good, wrong_notes\r\n",
        "\r\n"
      ],
      "execution_count": 24,
      "outputs": []
    },
    {
      "cell_type": "markdown",
      "metadata": {
        "id": "Rc_EbVriIOhC"
      },
      "source": [
        "Inputing a MIDI file and converting it to an array of MIDI Numbers"
      ]
    },
    {
      "cell_type": "code",
      "metadata": {
        "id": "M5D6u_UPEOuG"
      },
      "source": [
        "from mido import MidiFile #import the mido library\r\n",
        "def midiInput(mid):\r\n",
        "  allnotes=[]\r\n",
        "  cantusNotes=[]\r\n",
        "  counterNotes=[]\r\n",
        "\r\n",
        "  mid = MidiFile('counterpoint-checker/MidiTest/mid.mid') #inputs a MIDI file into the function\r\n",
        "\r\n",
        "  for i, track in enumerate(mid.tracks): #for every i within each track in a midi track list, this will check each message in the \"note_on\" section in each track for a MIDI number\r\n",
        "      #print('Track {}: {}'.format(i, track.name)) ##for testing\r\n",
        "      for msg in track:\r\n",
        "        if msg.type == 'note_on':\r\n",
        "          #print(msg.note) ##for testing\r\n",
        "          allnotes.append(msg.note) #appends the note number onto an array\r\n",
        "\r\n",
        "\r\n",
        "  for i in range(len(allnotes)): #splits the notes between track 1 and 2\r\n",
        "    if i<(len(allnotes)/2):\r\n",
        "      cantusNotes.append(allnotes[i])\r\n",
        "    else:\r\n",
        "      counterNotes.append(allnotes[i])                ####here there is an error in counting, need to ask\r\n",
        "\r\n",
        "  return cantusNotes,counterNotes #returns an array for the cantus firmus and counterpoint\r\n",
        "\r\n",
        "\r\n",
        "  "
      ],
      "execution_count": 25,
      "outputs": []
    },
    {
      "cell_type": "markdown",
      "metadata": {
        "id": "wF3e2Y_1LPhX"
      },
      "source": [
        "Reads the list of provided wav files and appends them together into a file called \"cantus.wav\""
      ]
    },
    {
      "cell_type": "code",
      "metadata": {
        "id": "S3__IqTP1NPn"
      },
      "source": [
        "def cantusWavCreate(infilesCantius):\r\n",
        "  outfileCantus = \"cantus.wav\"\r\n",
        "\r\n",
        "\r\n",
        "  dataCantus= []\r\n",
        "\r\n",
        "  for infileC in infilesCantius: \r\n",
        "      \r\n",
        "      waveC = wave.open(infileC, 'rb')\r\n",
        "\r\n",
        "      dataCantus.append( [waveC.getparams(), waveC.readframes(waveC.getnframes())] )\r\n",
        "      \r\n",
        "\r\n",
        "      waveC.close()\r\n",
        "\r\n",
        "  outputCantus = wave.open(outfileCantus, 'wb')\r\n",
        "\r\n",
        "  outputCantus.setparams(dataCantus[0][0])\r\n",
        "  i=0\r\n",
        "  for i in range(len(dataCantus)):\r\n",
        "    outputCantus.writeframes(dataCantus[i][1])\r\n",
        "  outputCantus.close()\r\n",
        "  return outfileCantus"
      ],
      "execution_count": 26,
      "outputs": []
    },
    {
      "cell_type": "markdown",
      "metadata": {
        "id": "8rFPoli-LrWv"
      },
      "source": [
        "Reads the list of provided wav files and appends them together into a file called \"counter.wav\""
      ]
    },
    {
      "cell_type": "code",
      "metadata": {
        "id": "sFfxHw772bVn"
      },
      "source": [
        "def counterWavCreate(infilesCounter):\r\n",
        "  outfileCounter = \"counter.wav\"\r\n",
        "\r\n",
        "\r\n",
        "  dataCounter= []\r\n",
        "\r\n",
        "  for infileCount in infilesCounter:\r\n",
        "\r\n",
        "      waveCounter = wave.open(infileCount, 'rb')\r\n",
        "\r\n",
        "      dataCounter.append( [waveCounter.getparams(), waveCounter.readframes(waveCounter.getnframes())] )\r\n",
        "      \r\n",
        "\r\n",
        "      waveCounter.close()\r\n",
        "\r\n",
        "  outputCounter = wave.open(outfileCounter, 'wb')\r\n",
        "\r\n",
        "  outputCounter.setparams(dataCounter[0][0])\r\n",
        "  i=0\r\n",
        "  for i in range(len(dataCounter)):\r\n",
        "    outputCounter.writeframes(dataCounter[i][1])\r\n",
        "  outputCounter.close()\r\n",
        "\r\n",
        "  return outfileCounter"
      ],
      "execution_count": 27,
      "outputs": []
    },
    {
      "cell_type": "markdown",
      "metadata": {
        "id": "U3wFuZONLxuL"
      },
      "source": [
        "Layers the counterpoint and cantus firmus wav files together to playback some notes."
      ]
    },
    {
      "cell_type": "code",
      "metadata": {
        "id": "gOWeqojZ3Rkh"
      },
      "source": [
        "def playAudio(outfileCantus,outfileCounter):\r\n",
        "  sound1 = AudioSegment.from_file(outfileCantus)\r\n",
        "  sound2 = AudioSegment.from_file(outfileCounter)\r\n",
        "\r\n",
        "  combined = sound1.overlay(sound2)\r\n",
        "\r\n",
        "  combined.export(\"counterpointChecker.wav\", format='wav')\r\n",
        "\r\n",
        "  IPython.display.Audio('counterpointChecker.wav')"
      ],
      "execution_count": 28,
      "outputs": []
    },
    {
      "cell_type": "markdown",
      "metadata": {
        "id": "DAt_KsS9LEYP"
      },
      "source": [
        "Compiling .wav files into an array"
      ]
    },
    {
      "cell_type": "code",
      "metadata": {
        "id": "x7u3mwVQvpUT"
      },
      "source": [
        "def wavWork(cantus_firmus,counterpoint): #input the array of note values and counterpoint values (as a string)\r\n",
        "  infilesCantius=[] \r\n",
        "  i=0\r\n",
        "  for i in range(len(cantus_firmus)): #checks each possible note in the cantus and inputs a wav file for that note into an array\r\n",
        "    infilesCantius.append('counterpoint-checker/WaveFiles/' + cantus_firmus[i] + '.wav')\r\n",
        "\r\n",
        "  infilesCounter=[]\r\n",
        "  i=0\r\n",
        "  for i in range(len(counterpoint)): #checks each possible note in the counterpoint and inputs a wav file for that note into an array \r\n",
        "    infilesCounter.append('counterpoint-checker/WaveFiles/' + cantus_firmus[i] + '.wav')\r\n",
        "\r\n",
        "  outfileCantus=cantusWavCreate(infilesCantius)\r\n",
        "  outfileCounter=counterWavCreate(infilesCounter)\r\n",
        "  playAudio(outfileCantus,outfileCounter)\r\n"
      ],
      "execution_count": 35,
      "outputs": []
    },
    {
      "cell_type": "code",
      "metadata": {
        "id": "Y5Cq177JIG28"
      },
      "source": [
        "def allNotesInKey(cantus_firmus_int,cantus_fimus, music_note_to_intKEY):\r\n",
        "  notCorrect = False\r\n",
        "  for i in range(len(cantus_firmus_int)): #checks if all notes are in the key\r\n",
        "      if cantus_firmus_int[i] in music_note_to_intKEY:\r\n",
        "        i=i\r\n",
        "      else:\r\n",
        "        cantus_firmus_KEY.append(cantus_firmus[i])\r\n",
        "        notCorrect=True\r\n",
        "        \r\n",
        "  if notCorrect==False:\r\n",
        "    return True\r\n",
        "      #print(\"All notes are in the Key\", musickey, \"for the Cantus Firmus\") \r\n",
        "  elif notCorrect == True:\r\n",
        "    return False\r\n",
        "      #print(\"Notes\", cantus_firmus_KEY,\"are not in the key\",musickey,\"for the Cantus Firmus\")"
      ],
      "execution_count": 30,
      "outputs": []
    },
    {
      "cell_type": "markdown",
      "metadata": {
        "id": "otQLYhlEK2Fu"
      },
      "source": [
        "The \"Main()\" Function of the Program"
      ]
    },
    {
      "cell_type": "code",
      "metadata": {
        "id": "VGjP6bdiGFa6",
        "colab": {
          "base_uri": "https://localhost:8080/",
          "height": 426
        },
        "outputId": "9136ec88-eff6-4493-8acd-2fb06a4236d5"
      },
      "source": [
        "music_note_to_int1 = {'C2': 36, 'C#2': 37, 'Db2': 37,'D2': 38, 'D#2': 39, 'Eb2': 39, 'E2': 40, 'F2': 41, 'F#2': 42, 'Gb2': 42, 'G2': 43, 'G#2': 44, 'Ab2': 44, 'A2': 45, 'A#2': 46, 'Bb2': 46, 'B2': 47}\n",
        "music_note_to_int2 = {'C3': 48, 'C#3': 49, 'Db3': 49,'D3': 50, 'D#3': 51, 'Eb3': 51, 'E3': 52, 'F3': 53, 'F#3': 54, 'Gb3': 54, 'G3': 55, 'G#3': 56, 'Ab3': 56, 'A3': 57, 'A#3': 58, 'Bb3': 58, 'B3': 59}\n",
        "music_note_to_int3 = {'C4': 60, 'C#4': 61, 'Db4': 61,'D4': 62, 'D#4': 63, 'Eb4': 63, 'E4': 64, 'F4': 65, 'F#4': 66, 'Gb4': 66, 'G4': 67, 'G#4': 68, 'Ab4': 68, 'A4': 69, 'A#4': 70, 'Bb4': 70, 'B4': 71}\n",
        "music_note_to_int4 = {'C5': 72, 'C#5': 73, 'Db5': 73,'D5': 74, 'D#5': 75, 'Eb5': 75, 'E5': 76, 'F5': 77, 'F#5': 78, 'Gb5': 78, 'G5': 79, 'G#5': 80, 'Ab5': 80, 'A5': 81}\n",
        "music_note_to_int1.update(music_note_to_int2)\n",
        "music_note_to_int1.update(music_note_to_int3)\n",
        "music_note_to_int1.update(music_note_to_int4)\n",
        "notCorrect=False\n",
        "\n",
        "print(\"Cantus firmus input: \")\n",
        "#cantus_firmus_in = input() #input the cantus firmus\n",
        "cantus_firmus_in = \"C2 D2 E2 G2 A2 F2 D2 C2\" #test\n",
        "cantus_firmus = cantus_firmus_in.split()\n",
        "cantus_firmus_int = []\n",
        "cantus_firmus_int_KEY = []\n",
        "\n",
        "print(\"Counterpoint input: \")\n",
        "#counterpoint_in = input() #input the counterpoint\n",
        "counterpoint_in = \"C3 B2 A2 G2 F2 E2 D2 C2\" #test\n",
        "counterpoint = counterpoint_in.split()\n",
        "counterpoint_int = []\n",
        "counterpoint_int_KEY = []\n",
        "\n",
        "print(\"Counterpoint above or below: \")\n",
        "#aorb_in = input() #input a or b\n",
        "aorb_in = 'a' #test\n",
        "aorb_int = 0\n",
        "if (aorb_in == 'a'):\n",
        "    aorb_int = 1\n",
        "elif (aorb_in == 'b'):\n",
        "    aorb_int = -1\n",
        "else:\n",
        "    print(\"Invalid input\")\n",
        "\n",
        "print(\"Input Key: \")\n",
        "#musickey=input() #input the key name\n",
        "musickey = \"Cmaj\" #test\n",
        "music_note_to_intKEY = setKeyCenter(musickey)\n",
        "\n",
        "cantus_firmus_KEY=[]\n",
        "counterpoint_KEY=[]\n",
        "\n",
        "\n",
        "if (check_same_length(cantus_firmus, counterpoint)): #checks if they are the same length\n",
        "  for i in cantus_firmus: #checks the inputed notes and iterates through it\n",
        "    cantus_firmus_int.append(music_note_to_int1[i]) #appends to an int array the midi value of the note\n",
        "  for i in counterpoint:\n",
        "    counterpoint_int.append(music_note_to_int1[i])\n",
        "\n",
        "for i in cantus_firmus_int:\n",
        "  cantus_firmus_int_KEY.append(music_note_to_intKEY[i])\n",
        "for i in counterpoint_int:\n",
        "  counterpoint_int_KEY.append(music_note_to_intKEY[i])\n",
        "\n",
        "\n",
        "checkA, listA = check_harmonic_consonance_in_list(cantus_firmus_int, counterpoint_int)\n",
        "checkB, listB = check_melodic_consonance_in_list(cantus_firmus_int) and check_melodic_consonance_in_list(counterpoint_int) #tests\n",
        "checkRangeCF = check_range(cantus_firmus_int)\n",
        "checkRangeCP = check_range(counterpoint_int)\n",
        "#print(find_peak_cp(counterpoint_int))\n",
        "peakCF_index = find_peak_cf(cantus_firmus_int)\n",
        "peakCP_index = find_peak_cp(counterpoint_int)\n",
        "check_one_peakCF = check_one_peak(cantus_firmus_int, peakCF_index)\n",
        "check_one_peakCP = check_one_peak(counterpoint_int, peakCP_index)\n",
        "checkPeakNotSame = peakCF_index != peakCP_index\n",
        "checkC1 = isLinear(counterpoint_int, \"Counter\")\n",
        "checkC2 = isLinear(cantus_firmus_int, \"Cantus\")\n",
        "checkM = motion(cantus_firmus_int_KEY, counterpoint_int_KEY)\n",
        "checkMotion3, listM3 = motion3InARow(checkM)\n",
        "checkPerfect5ths, listP5 = checkParallelFifthsOctaves(cantus_firmus_int, counterpoint_int)\n",
        "checkHidden5ths, listH5 = checkHiddenFifthsOctaves(cantus_firmus_int, counterpoint_int)\n",
        "checkK1 = allNotesInKey(cantus_firmus_int,cantus_firmus, music_note_to_intKEY)\n",
        "checkK2 = allNotesInKey(counterpoint_int,counterpoint, music_note_to_intKEY)\n",
        "check7th_resolveCF, list7thCF = check_7th_resolution(cantus_firmus_int_KEY)\n",
        "check7th_resolveCP, list7thCP = check_7th_resolution(counterpoint_int_KEY)\n",
        "checkLeapsOppositeCF, listLO1 = check_leaps_resolve_opposite(cantus_firmus_int_KEY)\n",
        "checkLeapsOppositeCP, listLO2 = check_leaps_resolve_opposite(counterpoint_int_KEY)\n",
        "checkVC, listVC = check_voice_cross(aorb_int, cantus_firmus_int, counterpoint_int)\n",
        "checkVO, listVO = check_voice_overlap(aorb_int, cantus_firmus_int, counterpoint_int)\n",
        "checkFirst = check_first(aorb_int, counterpoint_int, cantus_firmus_int)\n",
        "checkLast = check_last(counterpoint_int, cantus_firmus_int)\n",
        "\n",
        "\n",
        "print(\"Harmonically good:\", checkA, listA)\n",
        "print(\"Melodically good:\", checkB, listB)\n",
        "print(\"Ranges good: CF: \", checkRangeCF, \"CP: \", checkRangeCP)\n",
        "print(\"One peak: CF: \", check_one_peakCF, \"CP: \", check_one_peakCP)\n",
        "print(\"Peaks are not at the same place: \", checkPeakNotSame)\n",
        "print(\"Cantus Firmus notes in key\",musickey,\":\",checkK1)\n",
        "print(\"CounterPoint notes in key\",musickey,\":\",checkK2)\n",
        "print(\"Cantus Firmus Linear:\", checkC2)\n",
        "print(\"CounterPoint Linear:\", checkC1)\n",
        "print(\"Motion of the Music: \", checkM)\n",
        "print(\"No Three Parallel Motion in a Row: \", checkMotion3, listM3)\n",
        "print(\"Perfect Fifths & Octaves: \", checkPerfect5ths, listP5)\n",
        "print(\"Hidden Fifths & Octaves: \", checkHidden5ths, listH5)\n",
        "print(\"7ths resolve: CF: \", check7th_resolveCF, \"CP: \", check7th_resolveCP)\n",
        "print(\"Leaps are followed by opposite direction: CF:\", checkLeapsOppositeCF, listLO1, \"CP: \", checkLeapsOppositeCP, listLO2)\n",
        "print(\"No voice-crossing: \", checkVC, listVC)\n",
        "print(\"No voice-overlap: \", checkVO, listVO)\n",
        "print(\"First interval is good: \", checkFirst)\n",
        "print(\"Last interval is good: \", checkLast)\n",
        "\n",
        "wavWork(cantus_firmus,counterpoint)\n",
        "sound1 = AudioSegment.from_file(\"cantus.wav\")\n",
        "sound2 = AudioSegment.from_file(\"counter.wav\")\n",
        "\n",
        "combined = sound1.overlay(sound2)\n",
        "\n",
        "combined.export(\"counterpointChecker.wav\", format='wav')\n",
        "\n",
        "IPython.display.Audio('counterpointChecker.wav')\n",
        "\n"
      ],
      "execution_count": 32,
      "outputs": [
        {
          "output_type": "stream",
          "text": [
            "Cantus firmus input: \n",
            "Counterpoint input: \n",
            "Counterpoint above or below: \n",
            "Input Key: \n"
          ],
          "name": "stdout"
        },
        {
          "output_type": "error",
          "ename": "TypeError",
          "evalue": "ignored",
          "traceback": [
            "\u001b[0;31m---------------------------------------------------------------------------\u001b[0m",
            "\u001b[0;31mTypeError\u001b[0m                                 Traceback (most recent call last)",
            "\u001b[0;32m<ipython-input-32-175d76f168ea>\u001b[0m in \u001b[0;36m<module>\u001b[0;34m()\u001b[0m\n\u001b[1;32m     74\u001b[0m \u001b[0mcheck7th_resolveCF\u001b[0m\u001b[0;34m,\u001b[0m \u001b[0mlist7thCF\u001b[0m \u001b[0;34m=\u001b[0m \u001b[0mcheck_7th_resolution\u001b[0m\u001b[0;34m(\u001b[0m\u001b[0mcantus_firmus_int_KEY\u001b[0m\u001b[0;34m)\u001b[0m\u001b[0;34m\u001b[0m\u001b[0;34m\u001b[0m\u001b[0m\n\u001b[1;32m     75\u001b[0m \u001b[0mcheck7th_resolveCP\u001b[0m\u001b[0;34m,\u001b[0m \u001b[0mlist7thCP\u001b[0m \u001b[0;34m=\u001b[0m \u001b[0mcheck_7th_resolution\u001b[0m\u001b[0;34m(\u001b[0m\u001b[0mcounterpoint_int_KEY\u001b[0m\u001b[0;34m)\u001b[0m\u001b[0;34m\u001b[0m\u001b[0;34m\u001b[0m\u001b[0m\n\u001b[0;32m---> 76\u001b[0;31m \u001b[0mcheckLeapsOppositeCF\u001b[0m\u001b[0;34m,\u001b[0m \u001b[0mlistLO1\u001b[0m \u001b[0;34m=\u001b[0m \u001b[0mcheck_leaps_resolve_opposite\u001b[0m\u001b[0;34m(\u001b[0m\u001b[0mcantus_firmus_int_KEY\u001b[0m\u001b[0;34m)\u001b[0m\u001b[0;34m\u001b[0m\u001b[0;34m\u001b[0m\u001b[0m\n\u001b[0m\u001b[1;32m     77\u001b[0m \u001b[0mcheckLeapsOppositeCP\u001b[0m\u001b[0;34m,\u001b[0m \u001b[0mlistLO2\u001b[0m \u001b[0;34m=\u001b[0m \u001b[0mcheck_leaps_resolve_opposite\u001b[0m\u001b[0;34m(\u001b[0m\u001b[0mcounterpoint_int_KEY\u001b[0m\u001b[0;34m)\u001b[0m\u001b[0;34m\u001b[0m\u001b[0;34m\u001b[0m\u001b[0m\n\u001b[1;32m     78\u001b[0m \u001b[0mcheckVC\u001b[0m\u001b[0;34m,\u001b[0m \u001b[0mlistVC\u001b[0m \u001b[0;34m=\u001b[0m \u001b[0mcheck_voice_cross\u001b[0m\u001b[0;34m(\u001b[0m\u001b[0maorb_int\u001b[0m\u001b[0;34m,\u001b[0m \u001b[0mcantus_firmus_int\u001b[0m\u001b[0;34m,\u001b[0m \u001b[0mcounterpoint_int\u001b[0m\u001b[0;34m)\u001b[0m\u001b[0;34m\u001b[0m\u001b[0;34m\u001b[0m\u001b[0m\n",
            "\u001b[0;32m<ipython-input-24-3ea8508baedd>\u001b[0m in \u001b[0;36mcheck_leaps_resolve_opposite\u001b[0;34m(list1)\u001b[0m\n\u001b[1;32m     58\u001b[0m       \u001b[0;32mif\u001b[0m \u001b[0;34m(\u001b[0m\u001b[0minterval\u001b[0m \u001b[0;34m*\u001b[0m \u001b[0minterval_2\u001b[0m \u001b[0;34m>\u001b[0m \u001b[0;36m0\u001b[0m\u001b[0;34m)\u001b[0m\u001b[0;34m:\u001b[0m\u001b[0;34m\u001b[0m\u001b[0;34m\u001b[0m\u001b[0m\n\u001b[1;32m     59\u001b[0m         \u001b[0mleaps_good\u001b[0m \u001b[0;34m=\u001b[0m \u001b[0;32mFalse\u001b[0m\u001b[0;34m\u001b[0m\u001b[0;34m\u001b[0m\u001b[0m\n\u001b[0;32m---> 60\u001b[0;31m         \u001b[0mwrong_notes\u001b[0m\u001b[0;34m.\u001b[0m\u001b[0mappend\u001b[0m\u001b[0;34m[\u001b[0m\u001b[0mi\u001b[0m \u001b[0;34m+\u001b[0m \u001b[0;36m1\u001b[0m\u001b[0;34m]\u001b[0m\u001b[0;34m\u001b[0m\u001b[0;34m\u001b[0m\u001b[0m\n\u001b[0m\u001b[1;32m     61\u001b[0m \u001b[0;34m\u001b[0m\u001b[0m\n\u001b[1;32m     62\u001b[0m   \u001b[0;32mreturn\u001b[0m \u001b[0mleaps_good\u001b[0m\u001b[0;34m,\u001b[0m \u001b[0mwrong_notes\u001b[0m\u001b[0;34m\u001b[0m\u001b[0;34m\u001b[0m\u001b[0m\n",
            "\u001b[0;31mTypeError\u001b[0m: 'builtin_function_or_method' object is not subscriptable"
          ]
        }
      ]
    },
    {
      "cell_type": "markdown",
      "metadata": {
        "id": "YsAF3PyzCSwK"
      },
      "source": [
        "Test Case Copy and Paste:\n",
        "\n",
        "C2 D2 E2 F2 G2 A2 B2 C3\n",
        "\n",
        "C3 B2 A2 G2 F2 E2 D2 C2\n",
        "\n",
        "\n"
      ]
    }
  ]
}